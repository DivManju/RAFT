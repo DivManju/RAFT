{
 "cells": [
  {
   "cell_type": "code",
   "execution_count": null,
   "metadata": {},
   "outputs": [
    {
     "name": "stdout",
     "output_type": "stream",
     "text": [
      "Which datacenter do you want to connect to? 1-5: 1\n",
      "How can we help you? --Aquaman 2\n",
      "<messages.Request object at 0x000002A7E2F9D2B0>\n",
      "b'The Leader is processing  your request'\n",
      "b'Your request is fullfilled'\n",
      "Which datacenter do you want to connect to? 1-5: 2\n",
      "How can we help you? --Aquaman 8\n",
      "<messages.Request object at 0x000002A7E2F9D400>\n",
      "b'The Leader is processing  your request'\n",
      "b'Your request is fullfilled'\n",
      "Which datacenter do you want to connect to? 1-5: 1\n",
      "How can we help you? --avengers 4\n",
      "<messages.Request object at 0x000002A7E2F9D3C8>\n",
      "b'The Leader is processing  your request'\n",
      "b'Your request is fullfilled'\n"
     ]
    }
   ],
   "source": [
    "%run -i client.py"
   ]
  },
  {
   "cell_type": "code",
   "execution_count": null,
   "metadata": {},
   "outputs": [],
   "source": []
  },
  {
   "cell_type": "code",
   "execution_count": null,
   "metadata": {},
   "outputs": [],
   "source": []
  }
 ],
 "metadata": {
  "kernelspec": {
   "display_name": "Python 3",
   "language": "python",
   "name": "python3"
  },
  "language_info": {
   "codemirror_mode": {
    "name": "ipython",
    "version": 3
   },
   "file_extension": ".py",
   "mimetype": "text/x-python",
   "name": "python",
   "nbconvert_exporter": "python",
   "pygments_lexer": "ipython3",
   "version": "3.7.1"
  }
 },
 "nbformat": 4,
 "nbformat_minor": 2
}
